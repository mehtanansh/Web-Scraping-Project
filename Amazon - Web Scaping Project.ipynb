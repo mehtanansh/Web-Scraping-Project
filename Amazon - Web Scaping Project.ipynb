{
 "cells": [
  {
   "cell_type": "code",
   "execution_count": 1,
   "metadata": {},
   "outputs": [],
   "source": [
    "# Importing required libraries\n",
    "import pandas\n",
    "import requests\n",
    "import numpy \n",
    "from bs4 import BeautifulSoup\n",
    "import smtplib\n",
    "import time\n",
    "import datetime"
   ]
  },
  {
   "cell_type": "code",
   "execution_count": 2,
   "metadata": {},
   "outputs": [],
   "source": [
    "# Connecting to the website (Amazon)\n",
    "\n",
    "URL_to_Connect=\"https://www.amazon.in/OnePlus-Nord-Sierra-128GB-Storage/dp/B097RDVDL2/ref=sr_1_4?crid=2BYYLF03SJ8US&keywords=oneplus&qid=1636304756&sprefix=oneplus%2Caps%2C236&sr=8-4\"\n",
    "heads={\"User-Agent\": \"Mozilla/5.0 (Windows NT 10.0; Win64; x64) AppleWebKit/537.36 (KHTML, like Gecko) Chrome/95.0.4638.69 Safari/537.36\",\"Accept\": \"text/html,application/xhtml+xml,application/xml;q=0.9,image/avif,image/webp,image/apng,*/*;q=0.8,application/signed-exchange;v=b3;q=0.9\", \"Accept-Encoding\": \"gzip, deflate, br\",\"DNT\":\"1\",\"Connection\":\"close\",\"Upgrade-Insecure-Requests\": \"1\"}\n",
    "\n",
    "page=requests.get(URL_to_Connect,headers=heads)\n",
    "Soup1=BeautifulSoup(page.content,\"html.parser\")"
   ]
  },
  {
   "cell_type": "code",
   "execution_count": 3,
   "metadata": {},
   "outputs": [],
   "source": [
    "# Soup1"
   ]
  },
  {
   "cell_type": "code",
   "execution_count": 4,
   "metadata": {},
   "outputs": [],
   "source": [
    "# Using Prettify function\n",
    "Soup2=BeautifulSoup(Soup1.prettify(),\"html.parser\")"
   ]
  },
  {
   "cell_type": "code",
   "execution_count": 5,
   "metadata": {},
   "outputs": [],
   "source": [
    "# Soup2"
   ]
  },
  {
   "cell_type": "code",
   "execution_count": 6,
   "metadata": {},
   "outputs": [
    {
     "name": "stdout",
     "output_type": "stream",
     "text": [
      "\n",
      "     OnePlus Nord 2 5G (Gray Sierra, 8GB RAM, 128GB Storage)\n",
      "    \n"
     ]
    }
   ],
   "source": [
    "# Searching for the particular tags using it's ID from the page and extracting the text from the element\n",
    "product_title = Soup2.find(id=\"productTitle\").get_text()\n",
    "print(product_title)"
   ]
  },
  {
   "cell_type": "code",
   "execution_count": 7,
   "metadata": {},
   "outputs": [
    {
     "name": "stdout",
     "output_type": "stream",
     "text": [
      "\n",
      "        ₹29,999.00\n",
      "       \n"
     ]
    }
   ],
   "source": [
    "product_price = Soup2.find(id=\"priceblock_ourprice\").get_text()\n",
    "print(product_price)"
   ]
  },
  {
   "cell_type": "code",
   "execution_count": 8,
   "metadata": {},
   "outputs": [],
   "source": [
    "# Removing Extra White Spacing\n",
    "product_title=product_title.strip()\n",
    "product_price=product_price.strip()"
   ]
  },
  {
   "cell_type": "code",
   "execution_count": 9,
   "metadata": {},
   "outputs": [
    {
     "name": "stdout",
     "output_type": "stream",
     "text": [
      "2021-11-09\n"
     ]
    }
   ],
   "source": [
    "today=datetime.date.today()\n",
    "print(today)"
   ]
  },
  {
   "cell_type": "code",
   "execution_count": 10,
   "metadata": {},
   "outputs": [],
   "source": [
    "# We will save the data that is scraped in a csv file for further use. This can be used for creating a time series dataset, specially if we keep recording the prices of the product over a long period of time, for eg: 2 Years \n",
    "import csv\n",
    "cols_names=[\"Title\",\"Price\",\"Date\"]\n",
    "data=[product_title,product_price,today]\n",
    "\n",
    "with open(\"Amazon_Scraped_Data.csv\",\"w\",newline=\"\",encoding=\"UTF-8\") as f:\n",
    "    writer1=csv.writer(f)\n",
    "    writer1.writerow(cols_names)\n",
    "    writer1.writerow(data)"
   ]
  },
  {
   "cell_type": "code",
   "execution_count": 11,
   "metadata": {},
   "outputs": [
    {
     "data": {
      "text/html": [
       "<div>\n",
       "<style scoped>\n",
       "    .dataframe tbody tr th:only-of-type {\n",
       "        vertical-align: middle;\n",
       "    }\n",
       "\n",
       "    .dataframe tbody tr th {\n",
       "        vertical-align: top;\n",
       "    }\n",
       "\n",
       "    .dataframe thead th {\n",
       "        text-align: right;\n",
       "    }\n",
       "</style>\n",
       "<table border=\"1\" class=\"dataframe\">\n",
       "  <thead>\n",
       "    <tr style=\"text-align: right;\">\n",
       "      <th></th>\n",
       "      <th>Title</th>\n",
       "      <th>Price</th>\n",
       "      <th>Date</th>\n",
       "    </tr>\n",
       "  </thead>\n",
       "  <tbody>\n",
       "    <tr>\n",
       "      <td>0</td>\n",
       "      <td>OnePlus Nord 2 5G (Gray Sierra, 8GB RAM, 128GB...</td>\n",
       "      <td>₹29,999.00</td>\n",
       "      <td>2021-11-09</td>\n",
       "    </tr>\n",
       "  </tbody>\n",
       "</table>\n",
       "</div>"
      ],
      "text/plain": [
       "                                               Title       Price        Date\n",
       "0  OnePlus Nord 2 5G (Gray Sierra, 8GB RAM, 128GB...  ₹29,999.00  2021-11-09"
      ]
     },
     "execution_count": 11,
     "metadata": {},
     "output_type": "execute_result"
    }
   ],
   "source": [
    "# Saving content in csv file\n",
    "import pandas as pd\n",
    "S=pd.read_csv(\"Amazon_Scraped_Data.csv\")\n",
    "S"
   ]
  },
  {
   "cell_type": "markdown",
   "metadata": {},
   "source": [
    "##### We will try to form a dataset of different mobile devices available on Amazon"
   ]
  },
  {
   "cell_type": "code",
   "execution_count": 12,
   "metadata": {},
   "outputs": [],
   "source": [
    "# Importing Regex\n",
    "import re\n",
    "\n",
    "# Function to get data and store the same from page. \n",
    "\n",
    "#The function below will scrape data from Amazon Search (We searched mobile on Amazon) and store it in a csv file \n",
    "def get_url_html_data(URL_to_Connect,heads):\n",
    "    page=requests.get(URL_to_Connect,headers=heads)\n",
    "    Soup1=BeautifulSoup(page.content,\"html.parser\")\n",
    "    Soup2=BeautifulSoup(Soup1.prettify(),\"html.parser\")\n",
    "    data1=Soup2.find_all(\"span\",class_=\"a-size-medium a-color-base a-text-normal\")\n",
    "    data2=Soup2.find_all(\"span\",class_=\"a-price-whole\")\n",
    "#     print(len(data1),len(data2))\n",
    "    for i in range(min(len(data1),len(data2))):\n",
    "        r = re.compile(\"(.*?)\\s*\\((.*?)\\)\")\n",
    "        match=r.match(data1[i].get_text().strip())\n",
    "        if (match != None):\n",
    "            S=match.group(2).split(\",\")\n",
    "            data_temp=[]\n",
    "            data_temp.append(match.group(1))\n",
    "#             print(S[0])\n",
    "            if (\"GB\" not in S[0] and \"Inch\" not in S[0]):\n",
    "                data_temp.append(S[0])\n",
    "                Q1=[]\n",
    "                for q in S:\n",
    "                    q=q.strip()\n",
    "                    if (\"GB\" in q):\n",
    "                        Q1.append(q)\n",
    "#                 print(Q1)\n",
    "                if (len(Q1)==2):\n",
    "                    data_temp.append(Q1[0])\n",
    "                    data_temp.append(Q1[1])\n",
    "                    data_temp.append(data2[i].get_text().strip())\n",
    "                    with open(\"Amazon_Scraped_Data_Mobile_DB.csv\",\"a+\",newline=\"\",encoding=\"UTF-8\") as f:\n",
    "                        writer1=csv.writer(f)\n",
    "                        writer1.writerow(data_temp)\n",
    "        else:\n",
    "            continue\n",
    "    return Soup2\n",
    "\n",
    "\n",
    "# The below function is used for returning the link to the next page of results, if exists\n",
    "def go_to_next_page(Soup):\n",
    "    page=Soup.find(\"ul\",{\"class\":\"a-pagination\"})\n",
    "    if not page.find(\"li\",{\"class\":\"a-disabled a-last\"}):\n",
    "        url=\"https://www.amazon.in/\"+str(page.find(\"li\", {\"class\":\"a-last\"}).find(\"a\")[\"href\"])\n",
    "        return url\n",
    "    else:\n",
    "        return \n",
    "    Soup1=BeautifulSoup(page.content,\"html.parser\")\n",
    "    Soup2=BeautifulSoup(Soup1.prettify(),\"html.parser\")\n",
    "    return Soup2\n",
    "\n",
    "\n",
    "#URL of the first page\n",
    "URL_to_Connect=\"https://www.amazon.in/s?k=Mobiles&crid=1GWPX6LVRKEV7&sprefix=mobiles%2Caps%2C337&ref=nb_sb_noss_2\"\n",
    "heads={\"User-Agent\": \"Mozilla/5.0 (Windows NT 10.0; Win64; x64) AppleWebKit/537.36 (KHTML, like Gecko) Chrome/95.0.4638.69 Safari/537.36\",\"Accept\": \"text/html,application/xhtml+xml,application/xml;q=0.9,image/avif,image/webp,image/apng,*/*;q=0.8,application/signed-exchange;v=b3;q=0.9\", \"Accept-Encoding\": \"gzip, deflate, br\",\"DNT\":\"1\",\"Connection\":\"close\",\"Upgrade-Insecure-Requests\": \"1\"}\n",
    "\n",
    "import csv\n",
    "# Column names of the data, we want to store in the CSV File\n",
    "cols_names=[\"Device Name\",\"Color\",\"RAM Memory\",\"Storage Memory\",\"Price (INR)\"]\n",
    "\n",
    "\n",
    "with open(\"Amazon_Scraped_Data_Mobile_DB.csv\",\"w\",newline=\"\",encoding=\"UTF-8\") as f:\n",
    "    writer1=csv.writer(f)\n",
    "    writer1.writerow(cols_names)\n",
    "    \n",
    "while True:\n",
    "    HTML_Current=get_url_html_data(URL_to_Connect,heads)\n",
    "    Link_Next=go_to_next_page(HTML_Current)\n",
    "    if Link_Next==None:\n",
    "        break\n",
    "    URL_to_Connect=Link_Next"
   ]
  },
  {
   "cell_type": "code",
   "execution_count": 49,
   "metadata": {},
   "outputs": [
    {
     "data": {
      "text/html": [
       "<div>\n",
       "<style scoped>\n",
       "    .dataframe tbody tr th:only-of-type {\n",
       "        vertical-align: middle;\n",
       "    }\n",
       "\n",
       "    .dataframe tbody tr th {\n",
       "        vertical-align: top;\n",
       "    }\n",
       "\n",
       "    .dataframe thead th {\n",
       "        text-align: right;\n",
       "    }\n",
       "</style>\n",
       "<table border=\"1\" class=\"dataframe\">\n",
       "  <thead>\n",
       "    <tr style=\"text-align: right;\">\n",
       "      <th></th>\n",
       "      <th>Device Name</th>\n",
       "      <th>Color</th>\n",
       "      <th>RAM Memory</th>\n",
       "      <th>Storage Memory</th>\n",
       "      <th>Price (INR)</th>\n",
       "    </tr>\n",
       "  </thead>\n",
       "  <tbody>\n",
       "    <tr>\n",
       "      <td>0</td>\n",
       "      <td>OPPO F19 Pro+ 5G</td>\n",
       "      <td>Space Silver</td>\n",
       "      <td>8GB RAM</td>\n",
       "      <td>128GB Storage</td>\n",
       "      <td>25,990</td>\n",
       "    </tr>\n",
       "    <tr>\n",
       "      <td>1</td>\n",
       "      <td>I KALL K200 4G Smartphone</td>\n",
       "      <td>Blue</td>\n",
       "      <td>2GB</td>\n",
       "      <td>16GB</td>\n",
       "      <td>4,299</td>\n",
       "    </tr>\n",
       "    <tr>\n",
       "      <td>2</td>\n",
       "      <td>Samsung Galaxy M32</td>\n",
       "      <td>Light Blue</td>\n",
       "      <td>6GB RAM</td>\n",
       "      <td>128GB Storage</td>\n",
       "      <td>16,999</td>\n",
       "    </tr>\n",
       "    <tr>\n",
       "      <td>3</td>\n",
       "      <td>Samsung Galaxy M32 5G</td>\n",
       "      <td>Slate Black</td>\n",
       "      <td>6GB RAM</td>\n",
       "      <td>128GB Storage</td>\n",
       "      <td>20,999</td>\n",
       "    </tr>\n",
       "    <tr>\n",
       "      <td>4</td>\n",
       "      <td>OPPO A74 5G</td>\n",
       "      <td>Fantastic Purple</td>\n",
       "      <td>6GB RAM</td>\n",
       "      <td>128GB Storage</td>\n",
       "      <td>17,990</td>\n",
       "    </tr>\n",
       "    <tr>\n",
       "      <td>...</td>\n",
       "      <td>...</td>\n",
       "      <td>...</td>\n",
       "      <td>...</td>\n",
       "      <td>...</td>\n",
       "      <td>...</td>\n",
       "    </tr>\n",
       "    <tr>\n",
       "      <td>220</td>\n",
       "      <td>Vivo V21 5G</td>\n",
       "      <td>Dusk Blue</td>\n",
       "      <td>8GB RAM</td>\n",
       "      <td>256GB Storage</td>\n",
       "      <td>4,299</td>\n",
       "    </tr>\n",
       "    <tr>\n",
       "      <td>221</td>\n",
       "      <td>Redmi 8A Dual</td>\n",
       "      <td>Sea Blue</td>\n",
       "      <td>2GB RAM</td>\n",
       "      <td>32GB Storage</td>\n",
       "      <td>4,199</td>\n",
       "    </tr>\n",
       "    <tr>\n",
       "      <td>222</td>\n",
       "      <td>I KALL K5 Smartphon</td>\n",
       "      <td>Blue</td>\n",
       "      <td>2GB</td>\n",
       "      <td>16GB</td>\n",
       "      <td>5,399</td>\n",
       "    </tr>\n",
       "    <tr>\n",
       "      <td>223</td>\n",
       "      <td>OPPO F19 Pro</td>\n",
       "      <td>Crystal Silver</td>\n",
       "      <td>8GB RAM</td>\n",
       "      <td>256GB Storage</td>\n",
       "      <td>25,990</td>\n",
       "    </tr>\n",
       "    <tr>\n",
       "      <td>224</td>\n",
       "      <td>OPPO F19 Pro+ 5G</td>\n",
       "      <td>Space Silver</td>\n",
       "      <td>8GB RAM</td>\n",
       "      <td>128GB Storage</td>\n",
       "      <td>4,299</td>\n",
       "    </tr>\n",
       "  </tbody>\n",
       "</table>\n",
       "<p>225 rows × 5 columns</p>\n",
       "</div>"
      ],
      "text/plain": [
       "                   Device Name             Color RAM Memory Storage Memory  \\\n",
       "0             OPPO F19 Pro+ 5G      Space Silver    8GB RAM  128GB Storage   \n",
       "1    I KALL K200 4G Smartphone              Blue        2GB           16GB   \n",
       "2           Samsung Galaxy M32        Light Blue    6GB RAM  128GB Storage   \n",
       "3        Samsung Galaxy M32 5G       Slate Black    6GB RAM  128GB Storage   \n",
       "4                  OPPO A74 5G  Fantastic Purple    6GB RAM  128GB Storage   \n",
       "..                         ...               ...        ...            ...   \n",
       "220                Vivo V21 5G         Dusk Blue    8GB RAM  256GB Storage   \n",
       "221              Redmi 8A Dual          Sea Blue    2GB RAM   32GB Storage   \n",
       "222        I KALL K5 Smartphon              Blue        2GB           16GB   \n",
       "223               OPPO F19 Pro    Crystal Silver    8GB RAM  256GB Storage   \n",
       "224           OPPO F19 Pro+ 5G      Space Silver    8GB RAM  128GB Storage   \n",
       "\n",
       "    Price (INR)  \n",
       "0        25,990  \n",
       "1         4,299  \n",
       "2        16,999  \n",
       "3        20,999  \n",
       "4        17,990  \n",
       "..          ...  \n",
       "220       4,299  \n",
       "221       4,199  \n",
       "222       5,399  \n",
       "223      25,990  \n",
       "224       4,299  \n",
       "\n",
       "[225 rows x 5 columns]"
      ]
     },
     "execution_count": 49,
     "metadata": {},
     "output_type": "execute_result"
    }
   ],
   "source": [
    "Df_data = pd.read_csv(\"Amazon_Scraped_Data_Mobile_DB.csv\")\n",
    "df=pd.DataFrame(Df_data)\n",
    "df"
   ]
  },
  {
   "cell_type": "code",
   "execution_count": 50,
   "metadata": {},
   "outputs": [
    {
     "data": {
      "text/html": [
       "<div>\n",
       "<style scoped>\n",
       "    .dataframe tbody tr th:only-of-type {\n",
       "        vertical-align: middle;\n",
       "    }\n",
       "\n",
       "    .dataframe tbody tr th {\n",
       "        vertical-align: top;\n",
       "    }\n",
       "\n",
       "    .dataframe thead th {\n",
       "        text-align: right;\n",
       "    }\n",
       "</style>\n",
       "<table border=\"1\" class=\"dataframe\">\n",
       "  <thead>\n",
       "    <tr style=\"text-align: right;\">\n",
       "      <th></th>\n",
       "      <th>Device Name</th>\n",
       "      <th>Color</th>\n",
       "      <th>RAM Memory</th>\n",
       "      <th>Storage Memory</th>\n",
       "      <th>Price (INR)</th>\n",
       "    </tr>\n",
       "  </thead>\n",
       "  <tbody>\n",
       "    <tr>\n",
       "      <td>count</td>\n",
       "      <td>225</td>\n",
       "      <td>225</td>\n",
       "      <td>225</td>\n",
       "      <td>225</td>\n",
       "      <td>225</td>\n",
       "    </tr>\n",
       "    <tr>\n",
       "      <td>unique</td>\n",
       "      <td>84</td>\n",
       "      <td>100</td>\n",
       "      <td>11</td>\n",
       "      <td>12</td>\n",
       "      <td>89</td>\n",
       "    </tr>\n",
       "    <tr>\n",
       "      <td>top</td>\n",
       "      <td>I KALL K5 Smartphon</td>\n",
       "      <td>Blue</td>\n",
       "      <td>4GB RAM</td>\n",
       "      <td>128GB Storage</td>\n",
       "      <td>25,990</td>\n",
       "    </tr>\n",
       "    <tr>\n",
       "      <td>freq</td>\n",
       "      <td>22</td>\n",
       "      <td>45</td>\n",
       "      <td>54</td>\n",
       "      <td>91</td>\n",
       "      <td>18</td>\n",
       "    </tr>\n",
       "  </tbody>\n",
       "</table>\n",
       "</div>"
      ],
      "text/plain": [
       "                Device Name Color RAM Memory Storage Memory Price (INR)\n",
       "count                   225   225        225            225         225\n",
       "unique                   84   100         11             12          89\n",
       "top     I KALL K5 Smartphon  Blue    4GB RAM  128GB Storage      25,990\n",
       "freq                     22    45         54             91          18"
      ]
     },
     "execution_count": 50,
     "metadata": {},
     "output_type": "execute_result"
    }
   ],
   "source": [
    "df.describe()"
   ]
  },
  {
   "cell_type": "code",
   "execution_count": 51,
   "metadata": {},
   "outputs": [
    {
     "data": {
      "text/plain": [
       "Device Name       False\n",
       "Color             False\n",
       "RAM Memory        False\n",
       "Storage Memory    False\n",
       "Price (INR)       False\n",
       "dtype: bool"
      ]
     },
     "execution_count": 51,
     "metadata": {},
     "output_type": "execute_result"
    }
   ],
   "source": [
    "df.isnull().any()"
   ]
  },
  {
   "cell_type": "code",
   "execution_count": 52,
   "metadata": {},
   "outputs": [],
   "source": [
    "# Extracting the different brands that are sold on Amazon through the device names Device Name\n",
    "Brand=[]\n",
    "Brands_Cols=[]\n",
    "for i in range(len(df[\"Device Name\"])):\n",
    "    br=df[\"Device Name\"].iloc[i].split(\" \")\n",
    "    if (len(br[0])<2):\n",
    "        br_name = str(br[0])+\" \"+str(br[1])\n",
    "        br_name = br_name.upper()\n",
    "        Brands_Cols.append(br_name)\n",
    "        if (br_name.upper() not in Brand):\n",
    "            Brand.append(br_name)\n",
    "    else:\n",
    "        Brands_Cols.append(br[0].upper())\n",
    "        if br[0].upper() not in Brand:\n",
    "            Brand.append(br[0].upper())"
   ]
  },
  {
   "cell_type": "code",
   "execution_count": 53,
   "metadata": {},
   "outputs": [
    {
     "data": {
      "text/html": [
       "<div>\n",
       "<style scoped>\n",
       "    .dataframe tbody tr th:only-of-type {\n",
       "        vertical-align: middle;\n",
       "    }\n",
       "\n",
       "    .dataframe tbody tr th {\n",
       "        vertical-align: top;\n",
       "    }\n",
       "\n",
       "    .dataframe thead th {\n",
       "        text-align: right;\n",
       "    }\n",
       "</style>\n",
       "<table border=\"1\" class=\"dataframe\">\n",
       "  <thead>\n",
       "    <tr style=\"text-align: right;\">\n",
       "      <th></th>\n",
       "      <th>Device Name</th>\n",
       "      <th>Brands</th>\n",
       "      <th>Color</th>\n",
       "      <th>RAM Memory</th>\n",
       "      <th>Storage Memory</th>\n",
       "      <th>Price (INR)</th>\n",
       "    </tr>\n",
       "  </thead>\n",
       "  <tbody>\n",
       "    <tr>\n",
       "      <td>0</td>\n",
       "      <td>OPPO F19 Pro+ 5G</td>\n",
       "      <td>OPPO</td>\n",
       "      <td>Space Silver</td>\n",
       "      <td>8GB RAM</td>\n",
       "      <td>128GB Storage</td>\n",
       "      <td>25,990</td>\n",
       "    </tr>\n",
       "    <tr>\n",
       "      <td>1</td>\n",
       "      <td>I KALL K200 4G Smartphone</td>\n",
       "      <td>I KALL</td>\n",
       "      <td>Blue</td>\n",
       "      <td>2GB</td>\n",
       "      <td>16GB</td>\n",
       "      <td>4,299</td>\n",
       "    </tr>\n",
       "    <tr>\n",
       "      <td>2</td>\n",
       "      <td>Samsung Galaxy M32</td>\n",
       "      <td>SAMSUNG</td>\n",
       "      <td>Light Blue</td>\n",
       "      <td>6GB RAM</td>\n",
       "      <td>128GB Storage</td>\n",
       "      <td>16,999</td>\n",
       "    </tr>\n",
       "    <tr>\n",
       "      <td>3</td>\n",
       "      <td>Samsung Galaxy M32 5G</td>\n",
       "      <td>SAMSUNG</td>\n",
       "      <td>Slate Black</td>\n",
       "      <td>6GB RAM</td>\n",
       "      <td>128GB Storage</td>\n",
       "      <td>20,999</td>\n",
       "    </tr>\n",
       "    <tr>\n",
       "      <td>4</td>\n",
       "      <td>OPPO A74 5G</td>\n",
       "      <td>OPPO</td>\n",
       "      <td>Fantastic Purple</td>\n",
       "      <td>6GB RAM</td>\n",
       "      <td>128GB Storage</td>\n",
       "      <td>17,990</td>\n",
       "    </tr>\n",
       "    <tr>\n",
       "      <td>...</td>\n",
       "      <td>...</td>\n",
       "      <td>...</td>\n",
       "      <td>...</td>\n",
       "      <td>...</td>\n",
       "      <td>...</td>\n",
       "      <td>...</td>\n",
       "    </tr>\n",
       "    <tr>\n",
       "      <td>220</td>\n",
       "      <td>Vivo V21 5G</td>\n",
       "      <td>VIVO</td>\n",
       "      <td>Dusk Blue</td>\n",
       "      <td>8GB RAM</td>\n",
       "      <td>256GB Storage</td>\n",
       "      <td>4,299</td>\n",
       "    </tr>\n",
       "    <tr>\n",
       "      <td>221</td>\n",
       "      <td>Redmi 8A Dual</td>\n",
       "      <td>REDMI</td>\n",
       "      <td>Sea Blue</td>\n",
       "      <td>2GB RAM</td>\n",
       "      <td>32GB Storage</td>\n",
       "      <td>4,199</td>\n",
       "    </tr>\n",
       "    <tr>\n",
       "      <td>222</td>\n",
       "      <td>I KALL K5 Smartphon</td>\n",
       "      <td>I KALL</td>\n",
       "      <td>Blue</td>\n",
       "      <td>2GB</td>\n",
       "      <td>16GB</td>\n",
       "      <td>5,399</td>\n",
       "    </tr>\n",
       "    <tr>\n",
       "      <td>223</td>\n",
       "      <td>OPPO F19 Pro</td>\n",
       "      <td>OPPO</td>\n",
       "      <td>Crystal Silver</td>\n",
       "      <td>8GB RAM</td>\n",
       "      <td>256GB Storage</td>\n",
       "      <td>25,990</td>\n",
       "    </tr>\n",
       "    <tr>\n",
       "      <td>224</td>\n",
       "      <td>OPPO F19 Pro+ 5G</td>\n",
       "      <td>OPPO</td>\n",
       "      <td>Space Silver</td>\n",
       "      <td>8GB RAM</td>\n",
       "      <td>128GB Storage</td>\n",
       "      <td>4,299</td>\n",
       "    </tr>\n",
       "  </tbody>\n",
       "</table>\n",
       "<p>225 rows × 6 columns</p>\n",
       "</div>"
      ],
      "text/plain": [
       "                   Device Name   Brands             Color RAM Memory  \\\n",
       "0             OPPO F19 Pro+ 5G     OPPO      Space Silver    8GB RAM   \n",
       "1    I KALL K200 4G Smartphone   I KALL              Blue        2GB   \n",
       "2           Samsung Galaxy M32  SAMSUNG        Light Blue    6GB RAM   \n",
       "3        Samsung Galaxy M32 5G  SAMSUNG       Slate Black    6GB RAM   \n",
       "4                  OPPO A74 5G     OPPO  Fantastic Purple    6GB RAM   \n",
       "..                         ...      ...               ...        ...   \n",
       "220                Vivo V21 5G     VIVO         Dusk Blue    8GB RAM   \n",
       "221              Redmi 8A Dual    REDMI          Sea Blue    2GB RAM   \n",
       "222        I KALL K5 Smartphon   I KALL              Blue        2GB   \n",
       "223               OPPO F19 Pro     OPPO    Crystal Silver    8GB RAM   \n",
       "224           OPPO F19 Pro+ 5G     OPPO      Space Silver    8GB RAM   \n",
       "\n",
       "    Storage Memory Price (INR)  \n",
       "0    128GB Storage      25,990  \n",
       "1             16GB       4,299  \n",
       "2    128GB Storage      16,999  \n",
       "3    128GB Storage      20,999  \n",
       "4    128GB Storage      17,990  \n",
       "..             ...         ...  \n",
       "220  256GB Storage       4,299  \n",
       "221   32GB Storage       4,199  \n",
       "222           16GB       5,399  \n",
       "223  256GB Storage      25,990  \n",
       "224  128GB Storage       4,299  \n",
       "\n",
       "[225 rows x 6 columns]"
      ]
     },
     "execution_count": 53,
     "metadata": {},
     "output_type": "execute_result"
    }
   ],
   "source": [
    "df = df.assign(Brands = Brands_Cols)\n",
    "df = df[[\"Device Name\",\"Brands\",\"Color\",\"RAM Memory\",\"Storage Memory\",\"Price (INR)\"]]\n",
    "df"
   ]
  },
  {
   "cell_type": "code",
   "execution_count": 19,
   "metadata": {},
   "outputs": [
    {
     "data": {
      "image/png": "[encoded data removed]",
      "text/plain": [
       "<Figure size 1296x720 with 1 Axes>"
      ]
     },
     "metadata": {
      "needs_background": "light"
     },
     "output_type": "display_data"
    }
   ],
   "source": [
    "import matplotlib.pyplot as plt\n",
    "\n",
    "# Figure Size\n",
    "fig = plt.figure(figsize =(18, 10))\n",
    " \n",
    "# Horizontal Bar Plot\n",
    "plt.hist(df[\"Brands\"])\n",
    "\n",
    "# Show Plot\n",
    "plt.show()"
   ]
  },
  {
   "cell_type": "code",
   "execution_count": 20,
   "metadata": {},
   "outputs": [
    {
     "name": "stdout",
     "output_type": "stream",
     "text": [
      "[32, 38, 34, 29, 13, 1, 22, 8, 9, 22, 2, 1, 4, 1, 1, 1, 2, 2, 2, 1]\n"
     ]
    },
    {
     "data": {
      "image/png": "[encoded data removed]",
      "text/plain": [
       "<Figure size 1800x720 with 1 Axes>"
      ]
     },
     "metadata": {},
     "output_type": "display_data"
    }
   ],
   "source": [
    "vals = []\n",
    "for i in range(len(Brand)):\n",
    "    vals.append(len(df[df[\"Brands\"]==Brand[i]]))\n",
    "print(vals)    \n",
    "fig = plt.figure(figsize =(25, 10))\n",
    "plt.pie(vals,labels=Brand,autopct='%.0f%%')  \n",
    "plt.title('All Brands Available on Amazon')\n",
    "plt.show()"
   ]
  },
  {
   "cell_type": "code",
   "execution_count": 63,
   "metadata": {},
   "outputs": [],
   "source": [
    "# Comparing the average prices of Oppo, Redmi, Realme and Vivo\n",
    "import numpy as np\n",
    "\n",
    "for i in range(len(df[\"Price (INR)\"])):\n",
    "    df[\"Price (INR)\"].iloc[i]=df[\"Price (INR)\"].iloc[i].replace(\",\",\"\")\n",
    "    \n",
    "df1=df[df[\"Brands\"]==\"OPPO\"]\n",
    "Op=np.mean(df1[\"Price (INR)\"].astype(float))\n",
    "\n",
    "df2=df[df[\"Brands\"]==\"REDMI\"]\n",
    "Red=np.mean(df2[\"Price (INR)\"].astype(float))\n",
    "\n",
    "df3=df[df[\"Brands\"]==\"VIVO\"]\n",
    "Vi=np.mean(df3[\"Price (INR)\"].astype(float))\n",
    "\n",
    "df4=df[df[\"Brands\"]==\"REALME\"]\n",
    "Rel=np.mean(df4[\"Price (INR)\"].astype(float))\n",
    "\n",
    "\n",
    "df5=pd.DataFrame()"
   ]
  },
  {
   "cell_type": "code",
   "execution_count": 64,
   "metadata": {},
   "outputs": [
    {
     "data": {
      "text/plain": [
       "Text(0, 0.5, 'Average Price')"
      ]
     },
     "execution_count": 64,
     "metadata": {},
     "output_type": "execute_result"
    },
    {
     "data": {
      "image/png": "[encoded data removed]",
      "text/plain": [
       "<Figure size 432x288 with 1 Axes>"
      ]
     },
     "metadata": {
      "needs_background": "light"
     },
     "output_type": "display_data"
    }
   ],
   "source": [
    "plt.bar([\"OPPO\",\"REDMI\",\"VIVO\",\"REALME\"],[Op, Red, Vi, Rel])\n",
    "plt.xlabel(\"Brands\")\n",
    "plt.ylabel(\"Average Price\")"
   ]
  },
  {
   "cell_type": "code",
   "execution_count": 89,
   "metadata": {},
   "outputs": [
    {
     "data": {
      "text/plain": [
       "<matplotlib.axes._subplots.AxesSubplot at 0x192fb995048>"
      ]
     },
     "execution_count": 89,
     "metadata": {},
     "output_type": "execute_result"
    },
    {
     "data": {
      "image/png": "[encoded data removed]",
      "text/plain": [
       "<Figure size 1440x1080 with 1 Axes>"
      ]
     },
     "metadata": {
      "needs_background": "light"
     },
     "output_type": "display_data"
    }
   ],
   "source": [
    "# Drawing Boxplots for comparing the brands\n",
    "import seaborn as sns\n",
    "plt.figure(figsize=(20,15))\n",
    "sns.boxplot(y=df[\"Price (INR)\"].astype(float), x=df['Brands'])"
   ]
  },
  {
   "cell_type": "markdown",
   "metadata": {},
   "source": [
    "### Through the Boxplots, we can actually analyse the variance in the prices of mobiles provided by all the brands. \n",
    "##### We can see that brands like Ikal, Pansonic, iTel, Nokia, Gionee, Honor can be suggested to people with a budget of <=10K\n",
    "##### People having a slightly higher budget (around <=20K) can loog for mobiles of Oppo, Samsung, Vivo, Redmi, RealMe, Infinix, etc.\n",
    "##### OnePlus, Google are some of the companies that are making some premier phones sold at a rate greater than 25K, while some brands do have some phones in that segment too."
   ]
  },
  {
   "cell_type": "code",
   "execution_count": 44,
   "metadata": {},
   "outputs": [
    {
     "data": {
      "text/plain": [
       "Text(0, 0.5, 'Number of different Mobiles')"
      ]
     },
     "execution_count": 44,
     "metadata": {},
     "output_type": "execute_result"
    },
    {
     "data": {
      "image/png": "[encoded data removed]",
      "text/plain": [
       "<Figure size 432x288 with 1 Axes>"
      ]
     },
     "metadata": {
      "needs_background": "light"
     },
     "output_type": "display_data"
    }
   ],
   "source": [
    "# Analysing the memory sizes preferred in the Indian market:\n",
    "\n",
    "\n",
    "# We need to standardize the Format of Memory.\n",
    "\n",
    "RAM_Real=[]\n",
    "Stor_Real=[]\n",
    "for i in range(len(df[\"RAM Memory\"])):\n",
    "    for j in df[\"RAM Memory\"].iloc[i].split(\" \"):\n",
    "        if (\"GB\" in j):\n",
    "            RAM_Real.append(j)\n",
    "            \n",
    "    for j in df[\"Storage Memory\"].iloc[i].split(\" \"):\n",
    "        if (\"GB\" in j):\n",
    "            Stor_Real.append(j)\n",
    "\n",
    "# Analyzing the Memory Preferences;\n",
    "plt.hist(RAM_Real)\n",
    "plt.xlabel(\"Different RAM Memory Options Available\")\n",
    "plt.ylabel(\"Number of different Mobiles\")"
   ]
  },
  {
   "cell_type": "code",
   "execution_count": 45,
   "metadata": {},
   "outputs": [
    {
     "data": {
      "text/plain": [
       "Text(0, 0.5, 'Number of different Mobiles')"
      ]
     },
     "execution_count": 45,
     "metadata": {},
     "output_type": "execute_result"
    },
    {
     "data": {
      "image/png": "[encoded data removed]",
      "text/plain": [
       "<Figure size 432x288 with 1 Axes>"
      ]
     },
     "metadata": {
      "needs_background": "light"
     },
     "output_type": "display_data"
    }
   ],
   "source": [
    "plt.hist(Stor_Real)\n",
    "plt.xlabel(\"Different Internal Memory Options Available\")\n",
    "plt.ylabel(\"Number of different Mobiles\")"
   ]
  },
  {
   "cell_type": "markdown",
   "metadata": {},
   "source": [
    "###### One can easily say that most users prefer Internal Storage of 128Gb or 64GB and 2GB to 8GB RAM, depending upon their usage"
   ]
  },
  {
   "cell_type": "code",
   "execution_count": 25,
   "metadata": {
    "scrolled": false
   },
   "outputs": [],
   "source": [
    "# Creating a Standardized DataFrame for Anayzing Samsung Products;\n",
    "\n",
    "df_Norm = df[[\"Device Name\",\"Brands\",\"Color\",\"Price (INR)\"]]"
   ]
  },
  {
   "cell_type": "code",
   "execution_count": 26,
   "metadata": {},
   "outputs": [
    {
     "data": {
      "text/html": [
       "<div>\n",
       "<style scoped>\n",
       "    .dataframe tbody tr th:only-of-type {\n",
       "        vertical-align: middle;\n",
       "    }\n",
       "\n",
       "    .dataframe tbody tr th {\n",
       "        vertical-align: top;\n",
       "    }\n",
       "\n",
       "    .dataframe thead th {\n",
       "        text-align: right;\n",
       "    }\n",
       "</style>\n",
       "<table border=\"1\" class=\"dataframe\">\n",
       "  <thead>\n",
       "    <tr style=\"text-align: right;\">\n",
       "      <th></th>\n",
       "      <th>Device Name</th>\n",
       "      <th>Brands</th>\n",
       "      <th>Color</th>\n",
       "      <th>Price (INR)</th>\n",
       "      <th>RAM_Memory</th>\n",
       "      <th>Internal_Memory</th>\n",
       "    </tr>\n",
       "  </thead>\n",
       "  <tbody>\n",
       "    <tr>\n",
       "      <td>0</td>\n",
       "      <td>OPPO F19 Pro+ 5G</td>\n",
       "      <td>OPPO</td>\n",
       "      <td>Space Silver</td>\n",
       "      <td>25990</td>\n",
       "      <td>8GB</td>\n",
       "      <td>128GB</td>\n",
       "    </tr>\n",
       "    <tr>\n",
       "      <td>1</td>\n",
       "      <td>I KALL K200 4G Smartphone</td>\n",
       "      <td>I KALL</td>\n",
       "      <td>Blue</td>\n",
       "      <td>4299</td>\n",
       "      <td>2GB</td>\n",
       "      <td>16GB</td>\n",
       "    </tr>\n",
       "    <tr>\n",
       "      <td>2</td>\n",
       "      <td>Samsung Galaxy M32</td>\n",
       "      <td>SAMSUNG</td>\n",
       "      <td>Light Blue</td>\n",
       "      <td>16999</td>\n",
       "      <td>6GB</td>\n",
       "      <td>128GB</td>\n",
       "    </tr>\n",
       "    <tr>\n",
       "      <td>3</td>\n",
       "      <td>Samsung Galaxy M32 5G</td>\n",
       "      <td>SAMSUNG</td>\n",
       "      <td>Slate Black</td>\n",
       "      <td>20999</td>\n",
       "      <td>6GB</td>\n",
       "      <td>128GB</td>\n",
       "    </tr>\n",
       "    <tr>\n",
       "      <td>4</td>\n",
       "      <td>OPPO A74 5G</td>\n",
       "      <td>OPPO</td>\n",
       "      <td>Fantastic Purple</td>\n",
       "      <td>17990</td>\n",
       "      <td>6GB</td>\n",
       "      <td>128GB</td>\n",
       "    </tr>\n",
       "    <tr>\n",
       "      <td>...</td>\n",
       "      <td>...</td>\n",
       "      <td>...</td>\n",
       "      <td>...</td>\n",
       "      <td>...</td>\n",
       "      <td>...</td>\n",
       "      <td>...</td>\n",
       "    </tr>\n",
       "    <tr>\n",
       "      <td>220</td>\n",
       "      <td>Vivo V21 5G</td>\n",
       "      <td>VIVO</td>\n",
       "      <td>Dusk Blue</td>\n",
       "      <td>4299</td>\n",
       "      <td>8GB</td>\n",
       "      <td>256GB</td>\n",
       "    </tr>\n",
       "    <tr>\n",
       "      <td>221</td>\n",
       "      <td>Redmi 8A Dual</td>\n",
       "      <td>REDMI</td>\n",
       "      <td>Sea Blue</td>\n",
       "      <td>4199</td>\n",
       "      <td>2GB</td>\n",
       "      <td>32GB</td>\n",
       "    </tr>\n",
       "    <tr>\n",
       "      <td>222</td>\n",
       "      <td>I KALL K5 Smartphon</td>\n",
       "      <td>I KALL</td>\n",
       "      <td>Blue</td>\n",
       "      <td>5399</td>\n",
       "      <td>2GB</td>\n",
       "      <td>16GB</td>\n",
       "    </tr>\n",
       "    <tr>\n",
       "      <td>223</td>\n",
       "      <td>OPPO F19 Pro</td>\n",
       "      <td>OPPO</td>\n",
       "      <td>Crystal Silver</td>\n",
       "      <td>25990</td>\n",
       "      <td>8GB</td>\n",
       "      <td>256GB</td>\n",
       "    </tr>\n",
       "    <tr>\n",
       "      <td>224</td>\n",
       "      <td>OPPO F19 Pro+ 5G</td>\n",
       "      <td>OPPO</td>\n",
       "      <td>Space Silver</td>\n",
       "      <td>4299</td>\n",
       "      <td>8GB</td>\n",
       "      <td>128GB</td>\n",
       "    </tr>\n",
       "  </tbody>\n",
       "</table>\n",
       "<p>225 rows × 6 columns</p>\n",
       "</div>"
      ],
      "text/plain": [
       "                   Device Name   Brands             Color Price (INR)  \\\n",
       "0             OPPO F19 Pro+ 5G     OPPO      Space Silver       25990   \n",
       "1    I KALL K200 4G Smartphone   I KALL              Blue        4299   \n",
       "2           Samsung Galaxy M32  SAMSUNG        Light Blue       16999   \n",
       "3        Samsung Galaxy M32 5G  SAMSUNG       Slate Black       20999   \n",
       "4                  OPPO A74 5G     OPPO  Fantastic Purple       17990   \n",
       "..                         ...      ...               ...         ...   \n",
       "220                Vivo V21 5G     VIVO         Dusk Blue        4299   \n",
       "221              Redmi 8A Dual    REDMI          Sea Blue        4199   \n",
       "222        I KALL K5 Smartphon   I KALL              Blue        5399   \n",
       "223               OPPO F19 Pro     OPPO    Crystal Silver       25990   \n",
       "224           OPPO F19 Pro+ 5G     OPPO      Space Silver        4299   \n",
       "\n",
       "    RAM_Memory Internal_Memory  \n",
       "0          8GB           128GB  \n",
       "1          2GB            16GB  \n",
       "2          6GB           128GB  \n",
       "3          6GB           128GB  \n",
       "4          6GB           128GB  \n",
       "..         ...             ...  \n",
       "220        8GB           256GB  \n",
       "221        2GB            32GB  \n",
       "222        2GB            16GB  \n",
       "223        8GB           256GB  \n",
       "224        8GB           128GB  \n",
       "\n",
       "[225 rows x 6 columns]"
      ]
     },
     "execution_count": 26,
     "metadata": {},
     "output_type": "execute_result"
    }
   ],
   "source": [
    "df = df.assign(Brands = Brands_Cols)\n",
    "df_Norm=df_Norm.assign(RAM_Memory=RAM_Real)\n",
    "df_Norm=df_Norm.assign(Internal_Memory=Stor_Real)\n",
    "df_Norm"
   ]
  },
  {
   "cell_type": "code",
   "execution_count": 27,
   "metadata": {},
   "outputs": [],
   "source": [
    "# For analyzing the Different Mobiles provided by Samsung, we can do the following:\n",
    "\n",
    "df_Sam=df_Norm[df_Norm[\"Brands\"]==\"SAMSUNG\"]"
   ]
  },
  {
   "cell_type": "code",
   "execution_count": 28,
   "metadata": {},
   "outputs": [],
   "source": [
    "RAM_Sam=df_Sam[\"RAM_Memory\"].unique()"
   ]
  },
  {
   "cell_type": "code",
   "execution_count": 29,
   "metadata": {},
   "outputs": [],
   "source": [
    "Int_Sam=df_Sam[\"Internal_Memory\"].unique()"
   ]
  },
  {
   "cell_type": "code",
   "execution_count": 30,
   "metadata": {},
   "outputs": [],
   "source": [
    "# Finding Global Average of Mobiles with Different GBs of RAM and Internal Memory (M x N Architecture)\n",
    "Mem_Storer=[]\n",
    "value_storer_ovr=[]\n",
    "value_storer_sam=[]\n",
    "for i in range(len(RAM_Sam)):\n",
    "    Total1=df_Norm[df_Norm[\"RAM_Memory\"]==RAM_Sam[i]]\n",
    "    Sam1=df_Sam[df_Sam[\"RAM_Memory\"]==RAM_Sam[i]]\n",
    "    for j in range(len(Int_Sam)):\n",
    "        mean_val_total=np.mean(Total1[Total1[\"Internal_Memory\"]==Int_Sam[j]][\"Price (INR)\"].astype(float))\n",
    "        mean_val_sam=np.mean(Sam1[Sam1[\"Internal_Memory\"]==Int_Sam[j]][\"Price (INR)\"].astype(float))\n",
    "        Mem_Storer.append([RAM_Sam[i],Int_Sam[j]])\n",
    "        value_storer_ovr.append(mean_val_total)\n",
    "        value_storer_sam.append(mean_val_sam)"
   ]
  },
  {
   "cell_type": "code",
   "execution_count": 34,
   "metadata": {},
   "outputs": [
    {
     "name": "stdout",
     "output_type": "stream",
     "text": [
      "[['6GB', '128GB'], ['6GB', '64GB'], ['4GB', '128GB'], ['4GB', '64GB'], ['4GB', '32GB'], ['8GB', '128GB'], ['2GB', '128GB']]\n",
      "[15853.377777777778, 8372.0, 12919.4, 12889.673469387755, 5879.0, 20925.704545454544, nan]\n",
      "[16408.41176470588, 15990.0, nan, 14434.25, nan, 20926.285714285714, nan]\n"
     ]
    }
   ],
   "source": [
    "print(Mem_Storer)# Different types of Memory combinations\n",
    "print(value_storer_ovr) # Global Average of each Memory Combination\n",
    "print(value_storer_sam) # Samsung Average of each Memory Combination"
   ]
  },
  {
   "cell_type": "code",
   "execution_count": 35,
   "metadata": {},
   "outputs": [],
   "source": [
    "remove_indices=[]\n",
    "for i in range(len(Mem_Storer)):\n",
    "    if ((value_storer_ovr[i] != value_storer_ovr[i]) and (value_storer_sam[i] != value_storer_sam[i])):\n",
    "        remove_indices.append(i)\n",
    "\n",
    "for i in remove_indices:\n",
    "    del value_storer_ovr[i]\n",
    "    del value_storer_sam[i]\n",
    "    del Mem_Storer[i]"
   ]
  },
  {
   "cell_type": "code",
   "execution_count": 36,
   "metadata": {},
   "outputs": [],
   "source": [
    "value_storer_sam1=pd.DataFrame(value_storer_sam)\n",
    "value_storer_sam1.fillna(0,inplace=True)"
   ]
  },
  {
   "cell_type": "code",
   "execution_count": 37,
   "metadata": {},
   "outputs": [
    {
     "name": "stdout",
     "output_type": "stream",
     "text": [
      "[16408.41176470588, 15990.0, 0.0, 14434.25, 0.0, 20926.285714285714]\n"
     ]
    }
   ],
   "source": [
    "value_storer_sam1\n",
    "\n",
    "SamSung=[]\n",
    "for i in range(len(value_storer_sam1)):\n",
    "    SamSung.append(float(value_storer_sam1.iloc[i]))\n",
    "\n",
    "print(SamSung)"
   ]
  },
  {
   "cell_type": "code",
   "execution_count": 46,
   "metadata": {},
   "outputs": [
    {
     "name": "stdout",
     "output_type": "stream",
     "text": [
      "[16408.41176470588, 15990.0, 0.0, 14434.25, 0.0, 20926.285714285714]\n"
     ]
    },
    {
     "data": {
      "text/plain": [
       "Text(0, 0.5, 'Average Price')"
      ]
     },
     "execution_count": 46,
     "metadata": {},
     "output_type": "execute_result"
    },
    {
     "data": {
      "image/png": "[encoded data removed]",
      "text/plain": [
       "<Figure size 864x576 with 1 Axes>"
      ]
     },
     "metadata": {
      "needs_background": "light"
     },
     "output_type": "display_data"
    }
   ],
   "source": [
    "x = np.arange(len(SamSung))\n",
    "print(SamSung)\n",
    "y1 = SamSung\n",
    "y2 = value_storer_ovr\n",
    "width = 0.40\n",
    "\n",
    "# plot data in grouped manner of bar type\n",
    "fig=plt.figure(figsize=(12,8))\n",
    "plt.bar(x-0.2, y1, width,color=\"Green\")\n",
    "plt.bar(x+0.2, y2, width,color=\"orange\")\n",
    "plt.xticks(x, Mem_Storer, color='black', fontsize='12', horizontalalignment='center')\n",
    "plt.legend([\"Samsung\", \"Overall\"], loc =\"upper center\")\n",
    "plt.xlabel(\"Memory Options Available in the market\")\n",
    "plt.ylabel(\"Average Price\")"
   ]
  },
  {
   "cell_type": "markdown",
   "metadata": {},
   "source": [
    "#### Throught this graph, we understand that Samsung provides a good price, if one wants to buy a smartphone having specifications of 8GB RAM and 128GB Internal Memory or 6GB RAM and 128GB Internal Memory. The price Range for 6GB and 64GB Internal Memory is very high as compared to the other brands. Samsung doesn't provide phones with 4GB+64GB or 4Gb+32GB memory, which the company needs to work on. "
   ]
  },
  {
   "cell_type": "markdown",
   "metadata": {},
   "source": [
    "### Though we can do more with the analysis of the data, We need to look into the anamolies of the dataset"
   ]
  },
  {
   "cell_type": "code",
   "execution_count": 41,
   "metadata": {},
   "outputs": [
    {
     "data": {
      "text/html": [
       "<div>\n",
       "<style scoped>\n",
       "    .dataframe tbody tr th:only-of-type {\n",
       "        vertical-align: middle;\n",
       "    }\n",
       "\n",
       "    .dataframe tbody tr th {\n",
       "        vertical-align: top;\n",
       "    }\n",
       "\n",
       "    .dataframe thead th {\n",
       "        text-align: right;\n",
       "    }\n",
       "</style>\n",
       "<table border=\"1\" class=\"dataframe\">\n",
       "  <thead>\n",
       "    <tr style=\"text-align: right;\">\n",
       "      <th></th>\n",
       "      <th>Device Name</th>\n",
       "      <th>Brands</th>\n",
       "      <th>Color</th>\n",
       "      <th>Price (INR)</th>\n",
       "      <th>RAM_Memory</th>\n",
       "      <th>Internal_Memory</th>\n",
       "    </tr>\n",
       "  </thead>\n",
       "  <tbody>\n",
       "    <tr>\n",
       "      <td>41</td>\n",
       "      <td>OnePlus Nord CE 5G</td>\n",
       "      <td>ONEPLUS</td>\n",
       "      <td>Charcoal Ink</td>\n",
       "      <td>4499</td>\n",
       "      <td>8GB</td>\n",
       "      <td>128GB</td>\n",
       "    </tr>\n",
       "    <tr>\n",
       "      <td>44</td>\n",
       "      <td>OnePlus Nord CE 5G</td>\n",
       "      <td>ONEPLUS</td>\n",
       "      <td>Charcoal Ink</td>\n",
       "      <td>24999</td>\n",
       "      <td>8GB</td>\n",
       "      <td>128GB</td>\n",
       "    </tr>\n",
       "    <tr>\n",
       "      <td>63</td>\n",
       "      <td>OnePlus Nord 2 5G</td>\n",
       "      <td>ONEPLUS</td>\n",
       "      <td>Blue Haze</td>\n",
       "      <td>29999</td>\n",
       "      <td>8GB</td>\n",
       "      <td>128GB</td>\n",
       "    </tr>\n",
       "    <tr>\n",
       "      <td>84</td>\n",
       "      <td>OnePlus Nord 2 5G</td>\n",
       "      <td>ONEPLUS</td>\n",
       "      <td>Gray Sierra</td>\n",
       "      <td>29999</td>\n",
       "      <td>8GB</td>\n",
       "      <td>128GB</td>\n",
       "    </tr>\n",
       "    <tr>\n",
       "      <td>100</td>\n",
       "      <td>OnePlus Nord CE 5G</td>\n",
       "      <td>ONEPLUS</td>\n",
       "      <td>Charcoal Ink</td>\n",
       "      <td>24999</td>\n",
       "      <td>8GB</td>\n",
       "      <td>128GB</td>\n",
       "    </tr>\n",
       "    <tr>\n",
       "      <td>117</td>\n",
       "      <td>OnePlus Nord 2 5G</td>\n",
       "      <td>ONEPLUS</td>\n",
       "      <td>Gray Sierra</td>\n",
       "      <td>799</td>\n",
       "      <td>8GB</td>\n",
       "      <td>128GB</td>\n",
       "    </tr>\n",
       "    <tr>\n",
       "      <td>145</td>\n",
       "      <td>OnePlus 8T 5G</td>\n",
       "      <td>ONEPLUS</td>\n",
       "      <td>Lunar Silver</td>\n",
       "      <td>29999</td>\n",
       "      <td>8GB</td>\n",
       "      <td>128GB</td>\n",
       "    </tr>\n",
       "    <tr>\n",
       "      <td>193</td>\n",
       "      <td>OnePlus 9R 5G</td>\n",
       "      <td>ONEPLUS</td>\n",
       "      <td>Lake Blue</td>\n",
       "      <td>15989</td>\n",
       "      <td>8GB</td>\n",
       "      <td>128GB</td>\n",
       "    </tr>\n",
       "    <tr>\n",
       "      <td>203</td>\n",
       "      <td>OnePlus Nord 2 5G</td>\n",
       "      <td>ONEPLUS</td>\n",
       "      <td>Gray Sierra</td>\n",
       "      <td>46039</td>\n",
       "      <td>12GB</td>\n",
       "      <td>256GB</td>\n",
       "    </tr>\n",
       "  </tbody>\n",
       "</table>\n",
       "</div>"
      ],
      "text/plain": [
       "            Device Name   Brands         Color Price (INR) RAM_Memory  \\\n",
       "41   OnePlus Nord CE 5G  ONEPLUS  Charcoal Ink        4499        8GB   \n",
       "44   OnePlus Nord CE 5G  ONEPLUS  Charcoal Ink       24999        8GB   \n",
       "63    OnePlus Nord 2 5G  ONEPLUS     Blue Haze       29999        8GB   \n",
       "84    OnePlus Nord 2 5G  ONEPLUS   Gray Sierra       29999        8GB   \n",
       "100  OnePlus Nord CE 5G  ONEPLUS  Charcoal Ink       24999        8GB   \n",
       "117   OnePlus Nord 2 5G  ONEPLUS   Gray Sierra         799        8GB   \n",
       "145       OnePlus 8T 5G  ONEPLUS  Lunar Silver       29999        8GB   \n",
       "193       OnePlus 9R 5G  ONEPLUS     Lake Blue       15989        8GB   \n",
       "203   OnePlus Nord 2 5G  ONEPLUS   Gray Sierra       46039       12GB   \n",
       "\n",
       "    Internal_Memory  \n",
       "41            128GB  \n",
       "44            128GB  \n",
       "63            128GB  \n",
       "84            128GB  \n",
       "100           128GB  \n",
       "117           128GB  \n",
       "145           128GB  \n",
       "193           128GB  \n",
       "203           256GB  "
      ]
     },
     "execution_count": 41,
     "metadata": {},
     "output_type": "execute_result"
    }
   ],
   "source": [
    "# Lets consider OnePlus brand, which exclusively sells its phones on Amazon\n",
    "\n",
    "df_Norm[df_Norm[\"Brands\"]==\"ONEPLUS\"]"
   ]
  },
  {
   "cell_type": "markdown",
   "metadata": {},
   "source": [
    "#### We can see that, this dataset only includes some OnePlus Phones, and the price too is erroneous. Hence, the scaping algorithm needs to be changed or modified. Also, at places, the specifications are not normalized, and more columns like battery life, camera, display quality, release year, etc. need to be added for any comprehensive analysis."
   ]
  },
  {
   "cell_type": "code",
   "execution_count": 90,
   "metadata": {},
   "outputs": [
    {
     "data": {
      "text/plain": [
       "<matplotlib.axes._subplots.AxesSubplot at 0x192fb9edb88>"
      ]
     },
     "execution_count": 90,
     "metadata": {},
     "output_type": "execute_result"
    },
    {
     "data": {
      "image/png": "[encoded data removed]",
      "text/plain": [
       "<Figure size 1440x1080 with 1 Axes>"
      ]
     },
     "metadata": {
      "needs_background": "light"
     },
     "output_type": "display_data"
    }
   ],
   "source": [
    "# Consider re-drawing Boxplots for comparing the brands\n",
    "import seaborn as sns\n",
    "plt.figure(figsize=(20,15))\n",
    "sns.boxplot(y=df[\"Price (INR)\"].astype(float), x=df['Brands'])"
   ]
  },
  {
   "cell_type": "markdown",
   "metadata": {},
   "source": [
    "###### This dataset is prone to errors and hence, not all information can be considered correct. We know that Samsung is a premier company and has an average phone cost of around 20K-25K. but, the data here shows a different picture all together.  Most of the phones sold by OnePlus are atleast greater than 25K, but further we will see that during scraping, the data collected was incorrect and hence the lowest values came down as , nearing 0. The phones of brands IQOO builds and sells phones having prices less than 20K, but here the median price is around 22K. All this can lead us to see a different picture than all together. The small Boxplots for many brands show that the data provided is either insufficient or highly prone to errors."
   ]
  },
  {
   "cell_type": "markdown",
   "metadata": {},
   "source": [
    "#### If one needs to really compare phones, he or she can scrape websites like GRMArena, as they have complete details of each phones with detailed specifications"
   ]
  },
  {
   "cell_type": "code",
   "execution_count": null,
   "metadata": {},
   "outputs": [],
   "source": []
  }
 ],
 "metadata": {
  "kernelspec": {
   "display_name": "Python 3",
   "language": "python",
   "name": "python3"
  },
  "language_info": {
   "codemirror_mode": {
    "name": "ipython",
    "version": 3
   },
   "file_extension": ".py",
   "mimetype": "text/x-python",
   "name": "python",
   "nbconvert_exporter": "python",
   "pygments_lexer": "ipython3",
   "version": "3.7.4"
  }
 },
 "nbformat": 4,
 "nbformat_minor": 2
}
